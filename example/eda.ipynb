{
 "cells": [
  {
   "cell_type": "code",
   "execution_count": 1,
   "metadata": {},
   "outputs": [],
   "source": [
    "import torch\n",
    "from transformers import AutoTokenizer, AutoModelForCausalLM, AutoModel\n",
    "import json\n",
    "\n",
    "import matplotlib.pyplot as plt\n",
    "from torch_geometric.nn import GCNConv, GINConv\n",
    "from torch_geometric.nn import global_mean_pool"
   ]
  },
  {
   "cell_type": "code",
   "execution_count": 2,
   "metadata": {},
   "outputs": [],
   "source": [
    "TASKS_DIR = '/home/bonbak/graphqa/tasks/edge_existence/'\n",
    "\n",
    "def load_jsonl(filename):\n",
    "    data = []\n",
    "    with open(filename, 'r', encoding='utf-8') as file:\n",
    "        for line in file:\n",
    "            data.append(json.loads(line))\n",
    "    return data\n",
    "\n",
    "data = load_jsonl(TASKS_DIR+f\"train.jsonl\")"
   ]
  },
  {
   "cell_type": "code",
   "execution_count": 29,
   "metadata": {},
   "outputs": [],
   "source": [
    "import re\n",
    "for x in data:\n",
    "    if x['answer'] == 'Yes.':\n",
    "        q_edge = re.findall(r'\\d+', x['question'])\n",
    "        q_edge = tuple(map(int, q_edge))\n",
    "        rev_q_edge = q_edge[::-1]\n",
    "        rev_q_edge_str, q_edge_str = str(rev_q_edge), str(q_edge)\n",
    "        if not q_edge_str in x['edge_information'] and not rev_q_edge_str in x['edge_information'] :\n",
    "            print(x['edge_information'])\n",
    "            print(x['question'])\n",
    "            print('\\n')"
   ]
  }
 ],
 "metadata": {
  "kernelspec": {
   "display_name": "GraphToken",
   "language": "python",
   "name": "python3"
  },
  "language_info": {
   "codemirror_mode": {
    "name": "ipython",
    "version": 3
   },
   "file_extension": ".py",
   "mimetype": "text/x-python",
   "name": "python",
   "nbconvert_exporter": "python",
   "pygments_lexer": "ipython3",
   "version": "3.10.14"
  }
 },
 "nbformat": 4,
 "nbformat_minor": 2
}
